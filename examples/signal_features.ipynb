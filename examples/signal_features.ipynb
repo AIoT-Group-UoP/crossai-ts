{
 "cells": [
  {
   "cell_type": "code",
   "metadata": {
    "ExecuteTime": {
     "end_time": "2025-04-03T17:00:17.101999Z",
     "start_time": "2025-04-03T17:00:17.090432Z"
    }
   },
   "source": [
    "# Loads the autoreload extension in Notebook\n",
    "%load_ext autoreload\n",
    "# Sets the autoreload mode to reload all modules before executing code\n",
    "%autoreload 2"
   ],
   "outputs": [],
   "execution_count": 1
  },
  {
   "cell_type": "code",
   "metadata": {
    "ExecuteTime": {
     "end_time": "2025-04-03T17:00:17.331026Z",
     "start_time": "2025-04-03T17:00:17.105426Z"
    }
   },
   "source": [
    "import pandas as pd"
   ],
   "outputs": [],
   "execution_count": 2
  },
  {
   "cell_type": "markdown",
   "metadata": {},
   "source": [
    "# WAV - Audio data in uni-axis (mono)"
   ]
  },
  {
   "cell_type": "markdown",
   "metadata": {},
   "source": [
    "Check audio specs"
   ]
  },
  {
   "cell_type": "code",
   "metadata": {
    "ExecuteTime": {
     "end_time": "2025-04-03T17:00:17.728417Z",
     "start_time": "2025-04-03T17:00:17.398369Z"
    }
   },
   "source": [
    "from caits.loading import wav_specs_check"
   ],
   "outputs": [],
   "execution_count": 3
  },
  {
   "cell_type": "code",
   "metadata": {
    "ExecuteTime": {
     "end_time": "2025-04-03T17:00:17.907090Z",
     "start_time": "2025-04-03T17:00:17.892689Z"
    }
   },
   "source": [
    "audio_params = wav_specs_check(\"data/yes.wav\")"
   ],
   "outputs": [],
   "execution_count": 4
  },
  {
   "cell_type": "markdown",
   "metadata": {},
   "source": [
    "Information returned from the `wav_specs_check`:\n",
    "\n",
    "* nchannels: number of audio channels (1 for mono, 2 for stereo)\n",
    "* sampwidth: sample width in bytes\n",
    "* framerate: sampling frequency\n",
    "* nframes: number of audio frames\n",
    "* comptype: compression type ('NONE' is the only supported type)\n",
    "* compname: Human-readable version of `comptype`. Usually 'not compressed' parallels 'NONE'"
   ]
  },
  {
   "cell_type": "code",
   "metadata": {
    "ExecuteTime": {
     "end_time": "2025-04-03T17:00:17.927682Z",
     "start_time": "2025-04-03T17:00:17.917080Z"
    }
   },
   "source": [
    "audio_params"
   ],
   "outputs": [
    {
     "data": {
      "text/plain": [
       "{'nchannels': 1,\n",
       " 'sampwidth': 2,\n",
       " 'framerate': 16000,\n",
       " 'nframes': 16000,\n",
       " 'comptype': 'NONE',\n",
       " 'compname': 'not compressed'}"
      ]
     },
     "execution_count": 5,
     "metadata": {},
     "output_type": "execute_result"
    }
   ],
   "execution_count": 5
  },
  {
   "cell_type": "code",
   "metadata": {
    "ExecuteTime": {
     "end_time": "2025-04-03T17:00:17.947247Z",
     "start_time": "2025-04-03T17:00:17.937413Z"
    }
   },
   "source": [
    "wav_specs_check(\"data/yes.wav\", print_base=True)"
   ],
   "outputs": [
    {
     "name": "stdout",
     "output_type": "stream",
     "text": [
      "Sample rate: 16000 Hz\n",
      "Mono\n"
     ]
    },
    {
     "data": {
      "text/plain": [
       "{'nchannels': 1,\n",
       " 'sampwidth': 2,\n",
       " 'framerate': 16000,\n",
       " 'nframes': 16000,\n",
       " 'comptype': 'NONE',\n",
       " 'compname': 'not compressed'}"
      ]
     },
     "execution_count": 6,
     "metadata": {},
     "output_type": "execute_result"
    }
   ],
   "execution_count": 6
  },
  {
   "cell_type": "markdown",
   "metadata": {},
   "source": [
    "Load audio"
   ]
  },
  {
   "cell_type": "code",
   "metadata": {
    "ExecuteTime": {
     "end_time": "2025-04-03T17:00:17.967939Z",
     "start_time": "2025-04-03T17:00:17.959781Z"
    }
   },
   "source": [
    "from caits.loading import wav_loader"
   ],
   "outputs": [],
   "execution_count": 7
  },
  {
   "cell_type": "code",
   "metadata": {
    "ExecuteTime": {
     "end_time": "2025-04-03T17:00:17.985044Z",
     "start_time": "2025-04-03T17:00:17.976736Z"
    }
   },
   "source": [
    "audio_df, sr = wav_loader(\"data/yes.wav\")"
   ],
   "outputs": [],
   "execution_count": 8
  },
  {
   "cell_type": "code",
   "metadata": {
    "ExecuteTime": {
     "end_time": "2025-04-03T17:00:18.002747Z",
     "start_time": "2025-04-03T17:00:17.994141Z"
    }
   },
   "source": [
    "print(type(audio_df))\n",
    "print(audio_df.columns)"
   ],
   "outputs": [
    {
     "name": "stdout",
     "output_type": "stream",
     "text": [
      "<class 'pandas.core.frame.DataFrame'>\n",
      "Index(['ch_1'], dtype='object')\n"
     ]
    }
   ],
   "execution_count": 9
  },
  {
   "cell_type": "code",
   "metadata": {
    "ExecuteTime": {
     "end_time": "2025-04-03T17:00:18.021029Z",
     "start_time": "2025-04-03T17:00:18.012221Z"
    }
   },
   "source": [
    "print(audio_df.shape)"
   ],
   "outputs": [
    {
     "name": "stdout",
     "output_type": "stream",
     "text": [
      "(16000, 1)\n"
     ]
    }
   ],
   "execution_count": 10
  },
  {
   "cell_type": "code",
   "metadata": {
    "ExecuteTime": {
     "end_time": "2025-04-03T17:00:18.039231Z",
     "start_time": "2025-04-03T17:00:18.030641Z"
    }
   },
   "source": [
    "audio_load_arr = audio_df[\"ch_1\"].values\n",
    "print(audio_load_arr.shape)"
   ],
   "outputs": [
    {
     "name": "stdout",
     "output_type": "stream",
     "text": [
      "(16000,)\n"
     ]
    }
   ],
   "execution_count": 11
  },
  {
   "cell_type": "code",
   "metadata": {
    "ExecuteTime": {
     "end_time": "2025-04-03T17:00:18.059023Z",
     "start_time": "2025-04-03T17:00:18.048547Z"
    }
   },
   "source": [
    "audio_df.head()"
   ],
   "outputs": [
    {
     "data": {
      "text/plain": [
       "       ch_1\n",
       "0 -0.000763\n",
       "1 -0.000824\n",
       "2 -0.000732\n",
       "3 -0.000549\n",
       "4 -0.000427"
      ],
      "text/html": [
       "<div>\n",
       "<style scoped>\n",
       "    .dataframe tbody tr th:only-of-type {\n",
       "        vertical-align: middle;\n",
       "    }\n",
       "\n",
       "    .dataframe tbody tr th {\n",
       "        vertical-align: top;\n",
       "    }\n",
       "\n",
       "    .dataframe thead th {\n",
       "        text-align: right;\n",
       "    }\n",
       "</style>\n",
       "<table border=\"1\" class=\"dataframe\">\n",
       "  <thead>\n",
       "    <tr style=\"text-align: right;\">\n",
       "      <th></th>\n",
       "      <th>ch_1</th>\n",
       "    </tr>\n",
       "  </thead>\n",
       "  <tbody>\n",
       "    <tr>\n",
       "      <th>0</th>\n",
       "      <td>-0.000763</td>\n",
       "    </tr>\n",
       "    <tr>\n",
       "      <th>1</th>\n",
       "      <td>-0.000824</td>\n",
       "    </tr>\n",
       "    <tr>\n",
       "      <th>2</th>\n",
       "      <td>-0.000732</td>\n",
       "    </tr>\n",
       "    <tr>\n",
       "      <th>3</th>\n",
       "      <td>-0.000549</td>\n",
       "    </tr>\n",
       "    <tr>\n",
       "      <th>4</th>\n",
       "      <td>-0.000427</td>\n",
       "    </tr>\n",
       "  </tbody>\n",
       "</table>\n",
       "</div>"
      ]
     },
     "execution_count": 12,
     "metadata": {},
     "output_type": "execute_result"
    }
   ],
   "execution_count": 12
  },
  {
   "cell_type": "code",
   "metadata": {
    "ExecuteTime": {
     "end_time": "2025-04-03T17:00:18.092639Z",
     "start_time": "2025-04-03T17:00:18.084479Z"
    }
   },
   "source": [
    "print(audio_df.values.shape)\n",
    "print(audio_df.to_numpy().shape)"
   ],
   "outputs": [
    {
     "name": "stdout",
     "output_type": "stream",
     "text": [
      "(16000, 1)\n",
      "(16000, 1)\n"
     ]
    }
   ],
   "execution_count": 13
  },
  {
   "cell_type": "markdown",
   "metadata": {},
   "source": [
    "### Plotting"
   ]
  },
  {
   "cell_type": "code",
   "metadata": {
    "ExecuteTime": {
     "end_time": "2025-04-03T17:00:18.495836Z",
     "start_time": "2025-04-03T17:00:18.109924Z"
    }
   },
   "source": [
    "from caits.visualization import plot_signal"
   ],
   "outputs": [],
   "execution_count": 14
  },
  {
   "cell_type": "markdown",
   "metadata": {},
   "source": [
    "Plot signal in samples"
   ]
  },
  {
   "cell_type": "code",
   "metadata": {
    "ExecuteTime": {
     "end_time": "2025-04-03T17:00:18.599069Z",
     "start_time": "2025-04-03T17:00:18.499659Z"
    }
   },
   "source": [
    "plot_signal(\n",
    "    sig=audio_df.values, \n",
    "    sr=sr, \n",
    "    return_mode=False\n",
    ")"
   ],
   "outputs": [
    {
     "data": {
      "text/plain": [
       "<Figure size 1000x400 with 1 Axes>"
      ],
      "image/png": "[encoded data removed]"
     },
     "metadata": {},
     "output_type": "display_data"
    }
   ],
   "execution_count": 15
  },
  {
   "cell_type": "markdown",
   "metadata": {},
   "source": [
    "Plot signal in seconds"
   ]
  },
  {
   "cell_type": "code",
   "metadata": {
    "ExecuteTime": {
     "end_time": "2025-04-03T17:00:18.721920Z",
     "start_time": "2025-04-03T17:00:18.634212Z"
    }
   },
   "source": [
    "plot_signal(\n",
    "    sig=audio_df.values, \n",
    "    sr=sr, \n",
    "    mode=\"time\", \n",
    "    return_mode=False\n",
    ")"
   ],
   "outputs": [
    {
     "data": {
      "text/plain": [
       "<Figure size 1000x400 with 1 Axes>"
      ],
      "image/png": "[encoded data removed]"
     },
     "metadata": {},
     "output_type": "display_data"
    }
   ],
   "execution_count": 16
  },
  {
   "metadata": {},
   "cell_type": "markdown",
   "source": "# Statistical features"
  },
  {
   "metadata": {
    "ExecuteTime": {
     "end_time": "2025-04-03T17:00:18.754164Z",
     "start_time": "2025-04-03T17:00:18.725408Z"
    }
   },
   "cell_type": "code",
   "source": [
    "from caits.fe import std_value, variance_value, mean_value, median_value\n",
    "from caits.fe import max_value, min_value, kurtosis_value, sample_skewness\n",
    "from caits.fe import signal_length\n",
    "from caits.fe import central_moments"
   ],
   "outputs": [],
   "execution_count": 17
  },
  {
   "metadata": {
    "ExecuteTime": {
     "end_time": "2025-04-03T17:00:18.778550Z",
     "start_time": "2025-04-03T17:00:18.767055Z"
    }
   },
   "cell_type": "code",
   "source": [
    "print(\"mean_value: \", mean_value(audio_df.values))\n",
    "print(\"median_value: \", median_value(audio_df.values))\n",
    "print(\"std_value: \", std_value(audio_df.values))\n",
    "print(\"variance_value: \", variance_value(audio_df.values))\n",
    "print(\"max_value: \", max_value(audio_df.values))\n",
    "print(\"min_value: \", min_value(audio_df.values))\n",
    "print(\"signal_length: \", signal_length(audio_df.values, fs=sr))"
   ],
   "outputs": [
    {
     "name": "stdout",
     "output_type": "stream",
     "text": [
      "mean_value:  [9.44137573e-07]\n",
      "median_value:  [0.]\n",
      "std_value:  [0.03624523]\n",
      "variance_value:  [0.00131372]\n",
      "max_value:  [0.26763916]\n",
      "min_value:  [-0.29690552]\n",
      "signal_length:  1.0\n"
     ]
    }
   ],
   "execution_count": 18
  },
  {
   "metadata": {
    "ExecuteTime": {
     "end_time": "2025-04-03T17:00:18.800696Z",
     "start_time": "2025-04-03T17:00:18.788525Z"
    }
   },
   "cell_type": "code",
   "source": "kurtosis_value(audio_df.values)",
   "outputs": [
    {
     "data": {
      "text/plain": [
       "array([16.73830387])"
      ]
     },
     "execution_count": 19,
     "metadata": {},
     "output_type": "execute_result"
    }
   ],
   "execution_count": 19
  },
  {
   "metadata": {
    "ExecuteTime": {
     "end_time": "2025-04-03T17:00:18.822475Z",
     "start_time": "2025-04-03T17:00:18.810265Z"
    }
   },
   "cell_type": "code",
   "source": "sample_skewness(audio_df.values)",
   "outputs": [
    {
     "data": {
      "text/plain": [
       "array([0.0709207])"
      ]
     },
     "execution_count": 20,
     "metadata": {},
     "output_type": "execute_result"
    }
   ],
   "execution_count": 20
  },
  {
   "metadata": {
    "ExecuteTime": {
     "end_time": "2025-04-03T17:00:18.847243Z",
     "start_time": "2025-04-03T17:00:18.833733Z"
    }
   },
   "cell_type": "code",
   "source": "central_moments(audio_df.values, export=\"dict\")",
   "outputs": [
    {
     "data": {
      "text/plain": [
       "{'moment0': array([1.]),\n",
       " 'moment1': array([0.]),\n",
       " 'moment2': array([0.00131372]),\n",
       " 'moment3': array([3.37664088e-06]),\n",
       " 'moment4': array([3.40653809e-05])}"
      ]
     },
     "execution_count": 21,
     "metadata": {},
     "output_type": "execute_result"
    }
   ],
   "execution_count": 21
  }
 ],
 "metadata": {
  "kernelspec": {
   "display_name": "caits",
   "language": "python",
   "name": "python3"
  },
  "language_info": {
   "codemirror_mode": {
    "name": "ipython",
    "version": 3
   },
   "file_extension": ".py",
   "mimetype": "text/x-python",
   "name": "python",
   "nbconvert_exporter": "python",
   "pygments_lexer": "ipython3",
   "version": "3.11.8"
  }
 },
 "nbformat": 4,
 "nbformat_minor": 2
}
