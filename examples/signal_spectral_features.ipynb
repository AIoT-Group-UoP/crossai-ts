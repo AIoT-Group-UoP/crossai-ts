{
 "cells": [
  {
   "cell_type": "code",
   "execution_count": 1,
   "metadata": {},
   "outputs": [],
   "source": [
    "# Loads the autoreload extension in Notebook\n",
    "%load_ext autoreload\n",
    "# Sets the autoreload mode to reload all modules before executing code\n",
    "%autoreload 2"
   ]
  },
  {
   "cell_type": "code",
   "execution_count": 2,
   "metadata": {},
   "outputs": [],
   "source": [
    "from caits.loading import wav_specs_check"
   ]
  },
  {
   "cell_type": "code",
   "execution_count": 3,
   "metadata": {},
   "outputs": [],
   "source": [
    "audio_params = wav_specs_check(\"data/yes.wav\")"
   ]
  },
  {
   "cell_type": "markdown",
   "metadata": {},
   "source": [
    "Information returned from the `wav_specs_check`:\n",
    "\n",
    "* nchannels: number of audio channels (1 for mono, 2 for stereo)\n",
    "* sampwidth: sample width in bytes\n",
    "* framerate: sampling frequency\n",
    "* nframes: number of audio frames\n",
    "* comptype: compression type ('NONE' is the only supported type)\n",
    "* compname: Human-readable version of `comptype`. Usually 'not compressed' parallels 'NONE'"
   ]
  },
  {
   "cell_type": "code",
   "execution_count": 4,
   "metadata": {},
   "outputs": [
    {
     "data": {
      "text/plain": [
       "{'nchannels': 1,\n",
       " 'sampwidth': 2,\n",
       " 'framerate': 16000,\n",
       " 'nframes': 16000,\n",
       " 'comptype': 'NONE',\n",
       " 'compname': 'not compressed'}"
      ]
     },
     "execution_count": 4,
     "metadata": {},
     "output_type": "execute_result"
    }
   ],
   "source": [
    "audio_params"
   ]
  },
  {
   "cell_type": "code",
   "execution_count": 5,
   "metadata": {},
   "outputs": [
    {
     "name": "stdout",
     "output_type": "stream",
     "text": [
      "Sample rate: 16000 Hz\n",
      "Mono\n"
     ]
    },
    {
     "data": {
      "text/plain": [
       "{'nchannels': 1,\n",
       " 'sampwidth': 2,\n",
       " 'framerate': 16000,\n",
       " 'nframes': 16000,\n",
       " 'comptype': 'NONE',\n",
       " 'compname': 'not compressed'}"
      ]
     },
     "execution_count": 5,
     "metadata": {},
     "output_type": "execute_result"
    }
   ],
   "source": [
    "wav_specs_check(\"data/yes.wav\", print_base=True)"
   ]
  },
  {
   "cell_type": "markdown",
   "metadata": {},
   "source": [
    "Load audio"
   ]
  },
  {
   "cell_type": "code",
   "execution_count": 6,
   "metadata": {},
   "outputs": [],
   "source": [
    "from caits.loading import wav_loader"
   ]
  },
  {
   "cell_type": "code",
   "execution_count": 7,
   "metadata": {},
   "outputs": [],
   "source": [
    "audio_df, sr = wav_loader(\"data/hiphop.wav\")"
   ]
  },
  {
   "cell_type": "code",
   "execution_count": 8,
   "metadata": {},
   "outputs": [
    {
     "name": "stdout",
     "output_type": "stream",
     "text": [
      "<class 'pandas.core.frame.DataFrame'>\n",
      "Index(['ch_1'], dtype='object')\n"
     ]
    }
   ],
   "source": [
    "print(type(audio_df))\n",
    "print(audio_df.columns)"
   ]
  },
  {
   "cell_type": "code",
   "execution_count": 9,
   "metadata": {},
   "outputs": [
    {
     "name": "stdout",
     "output_type": "stream",
     "text": [
      "(661794, 1)\n"
     ]
    }
   ],
   "source": [
    "print(audio_df.shape)"
   ]
  },
  {
   "cell_type": "code",
   "execution_count": 10,
   "metadata": {},
   "outputs": [
    {
     "name": "stdout",
     "output_type": "stream",
     "text": [
      "(661794,)\n"
     ]
    }
   ],
   "source": [
    "audio_load_arr = audio_df[\"ch_1\"].values\n",
    "print(audio_load_arr.shape)"
   ]
  },
  {
   "cell_type": "code",
   "execution_count": 11,
   "metadata": {},
   "outputs": [
    {
     "data": {
      "text/html": [
       "<div>\n",
       "<style scoped>\n",
       "    .dataframe tbody tr th:only-of-type {\n",
       "        vertical-align: middle;\n",
       "    }\n",
       "\n",
       "    .dataframe tbody tr th {\n",
       "        vertical-align: top;\n",
       "    }\n",
       "\n",
       "    .dataframe thead th {\n",
       "        text-align: right;\n",
       "    }\n",
       "</style>\n",
       "<table border=\"1\" class=\"dataframe\">\n",
       "  <thead>\n",
       "    <tr style=\"text-align: right;\">\n",
       "      <th></th>\n",
       "      <th>ch_1</th>\n",
       "    </tr>\n",
       "  </thead>\n",
       "  <tbody>\n",
       "    <tr>\n",
       "      <th>0</th>\n",
       "      <td>0.000641</td>\n",
       "    </tr>\n",
       "    <tr>\n",
       "      <th>1</th>\n",
       "      <td>-0.000977</td>\n",
       "    </tr>\n",
       "    <tr>\n",
       "      <th>2</th>\n",
       "      <td>0.002472</td>\n",
       "    </tr>\n",
       "    <tr>\n",
       "      <th>3</th>\n",
       "      <td>0.007141</td>\n",
       "    </tr>\n",
       "    <tr>\n",
       "      <th>4</th>\n",
       "      <td>0.004883</td>\n",
       "    </tr>\n",
       "  </tbody>\n",
       "</table>\n",
       "</div>"
      ],
      "text/plain": [
       "       ch_1\n",
       "0  0.000641\n",
       "1 -0.000977\n",
       "2  0.002472\n",
       "3  0.007141\n",
       "4  0.004883"
      ]
     },
     "execution_count": 11,
     "metadata": {},
     "output_type": "execute_result"
    }
   ],
   "source": [
    "audio_df.head()"
   ]
  },
  {
   "cell_type": "markdown",
   "metadata": {},
   "source": [
    "### Plotting"
   ]
  },
  {
   "cell_type": "code",
   "execution_count": 12,
   "metadata": {},
   "outputs": [],
   "source": [
    "from caits.visualization import plot_signal"
   ]
  },
  {
   "cell_type": "markdown",
   "metadata": {},
   "source": [
    "Plot signal in samples"
   ]
  },
  {
   "cell_type": "code",
   "execution_count": 13,
   "metadata": {},
   "outputs": [
    {
     "data": {
      "image/png": "[encoded data removed]",
      "text/plain": [
       "<Figure size 1000x400 with 1 Axes>"
      ]
     },
     "metadata": {},
     "output_type": "display_data"
    }
   ],
   "source": [
    "plot_signal(\n",
    "    sig=audio_df.values, \n",
    "    sr=sr,\n",
    "    mode=\"time\",\n",
    "    return_mode=False\n",
    ")"
   ]
  },
  {
   "cell_type": "code",
   "execution_count": 14,
   "metadata": {},
   "outputs": [],
   "source": [
    "from caits.fe import underlying_spectral\n",
    "\n",
    "\n",
    "mags, freqs, summags = underlying_spectral(array=audio_df.values, fs=sr)"
   ]
  },
  {
   "cell_type": "code",
   "execution_count": 15,
   "metadata": {},
   "outputs": [
    {
     "data": {
      "text/plain": [
       "[<matplotlib.lines.Line2D at 0x15ed59479d0>]"
      ]
     },
     "execution_count": 15,
     "metadata": {},
     "output_type": "execute_result"
    },
    {
     "data": {
      "image/png": "[encoded data removed]",
      "text/plain": [
       "<Figure size 640x480 with 1 Axes>"
      ]
     },
     "metadata": {},
     "output_type": "display_data"
    }
   ],
   "source": [
    "import matplotlib.pyplot as plt\n",
    "\n",
    "plt.plot(freqs, mags[0:mags.shape[0]//2+1, 0] * summags)"
   ]
  },
  {
   "cell_type": "code",
   "execution_count": 16,
   "metadata": {},
   "outputs": [
    {
     "data": {
      "text/plain": [
       "2908.0423208230363"
      ]
     },
     "execution_count": 16,
     "metadata": {},
     "output_type": "execute_result"
    }
   ],
   "source": [
    "from caits.fe import spectral_centroid\n",
    "\n",
    "spectral_centroid(array=audio_df.values.flatten(), fs=sr)"
   ]
  },
  {
   "cell_type": "code",
   "execution_count": 17,
   "metadata": {},
   "outputs": [],
   "source": [
    "# frames = range(len(sc_centroid[0]))\n",
    "# t = librosa.frames_to_time(frames, sr=sr, hop_length=512)"
   ]
  },
  {
   "cell_type": "code",
   "execution_count": 29,
   "metadata": {},
   "outputs": [],
   "source": [
    "from typing import Optional\n",
    "import numpy as np\n",
    "from caits.fe.core_spectrum import fft_frequencies\n",
    "from caits.fe._spectrum import spectrogram\n",
    "\n",
    "from caits.core._core_typing import _WindowSpec, _PadModeSTFT\n",
    "from caits.fe.core_spectrum import expand_to\n",
    "from caits.core._core_window import normalize\n",
    "\n",
    "\n",
    "def spectral_centroid(\n",
    "    y: Optional[np.ndarray] = None,\n",
    "    sr: float = 22050,\n",
    "    S: Optional[np.ndarray] = None,\n",
    "    n_fft: int = 2048,\n",
    "    hop_length: int = 512,\n",
    "    freq: Optional[np.ndarray] = None,\n",
    "    win_length: Optional[int] = None,\n",
    "    window: _WindowSpec = \"hann\",\n",
    "    center: bool = True,\n",
    "    pad_mode: _PadModeSTFT = \"constant\",\n",
    ") -> np.ndarray:\n",
    "    \"\"\"Compute the spectral centroid.\n",
    "\n",
    "    Each frame of a magnitude spectrogram is normalized and treated as a\n",
    "    distribution over frequency bins, from which the mean (centroid) is\n",
    "    extracted per frame.\n",
    "\n",
    "    More precisely, the centroid at frame ``t`` is defined as [#]_::\n",
    "\n",
    "        centroid[t] = sum_k S[k, t] * freq[k] / (sum_j S[j, t])\n",
    "\n",
    "    where ``S`` is a magnitude spectrogram, and ``freq`` is the array of\n",
    "    frequencies (e.g., FFT frequencies in Hz) of the rows of ``S``.\n",
    "\n",
    "    .. [#] Klapuri, A., & Davy, M. (Eds.). (2007). Signal processing\n",
    "        methods for music transcription, chapter 5.\n",
    "        Springer Science & Business Media.\n",
    "    \"\"\"\n",
    "    S, n_fft = spectrogram(\n",
    "        y=y,\n",
    "        S=S,\n",
    "        n_fft=n_fft,\n",
    "        hop_length=hop_length,\n",
    "        win_length=win_length,\n",
    "        window=window,\n",
    "        center=center,\n",
    "        pad_mode=pad_mode,\n",
    "    )\n",
    "\n",
    "    if not np.isrealobj(S):\n",
    "        raise ValueError(\n",
    "            \"Spectral centroid is only defined \" \"with real-valued input\"\n",
    "        )\n",
    "    elif np.any(S < 0):\n",
    "        raise ValueError(\n",
    "            \"Spectral centroid is only defined \" \"with non-negative energies\"\n",
    "        )\n",
    "\n",
    "    # Compute the center frequencies of each bin\n",
    "    if freq is None:\n",
    "        freq = fft_frequencies(sr=sr, n_fft=n_fft)\n",
    "    print(freq.shape)\n",
    "    if freq.ndim == 1:\n",
    "        # reshape for broadcasting\n",
    "        freq = expand_to(freq, ndim=S.ndim, axes=-2)\n",
    "    print(freq.shape)\n",
    "    # Column-normalize S\n",
    "    centroid: np.ndarray = np.sum(\n",
    "        freq * normalize(S, norm=1, axis=-2), axis=-2) # , keepdims=True\n",
    "    # )\n",
    "    return centroid"
   ]
  },
  {
   "cell_type": "code",
   "execution_count": 30,
   "metadata": {},
   "outputs": [
    {
     "name": "stdout",
     "output_type": "stream",
     "text": [
      "(1025,)\n",
      "(1025, 1)\n"
     ]
    },
    {
     "data": {
      "text/plain": [
       "(1293,)"
      ]
     },
     "execution_count": 30,
     "metadata": {},
     "output_type": "execute_result"
    }
   ],
   "source": [
    "sc_lib = spectral_centroid(y=audio_df.values.flatten(), sr=sr)\n",
    "sc_lib.shape"
   ]
  },
  {
   "cell_type": "code",
   "execution_count": 20,
   "metadata": {},
   "outputs": [],
   "source": [
    "from caits.dataset import Dataset\n",
    "\n",
    "X = Dataset(\n",
    "    X=[audio_df],\n",
    "    y=[0],\n",
    "    id=[\"hiphp.wav\"]\n",
    ")"
   ]
  },
  {
   "cell_type": "code",
   "execution_count": 31,
   "metadata": {},
   "outputs": [],
   "source": [
    "from sklearn.pipeline import Pipeline\n",
    "from caits.transformers import SlidingWindow, FunctionTransformer\n",
    "\n",
    "pipe = Pipeline([\n",
    "    # (\"chunker\", SlidingWindow(window_size=int(1*sr), overlap=0)),\n",
    "    (\"spectral_centroid\", FunctionTransformer(func=spectral_centroid, sr=sr))\n",
    "]\n",
    ")"
   ]
  },
  {
   "cell_type": "code",
   "execution_count": 32,
   "metadata": {},
   "outputs": [
    {
     "name": "stdout",
     "output_type": "stream",
     "text": [
      "(1025,)\n",
      "(1025, 1)\n"
     ]
    },
    {
     "data": {
      "text/plain": [
       "(             ch_1\n",
       " 0     3009.402945\n",
       " 1     3480.924326\n",
       " 2     3310.694860\n",
       " 3     3017.145087\n",
       " 4     3727.318502\n",
       " ...           ...\n",
       " 1288  4383.944440\n",
       " 1289  4872.430437\n",
       " 1290  4925.995994\n",
       " 1291  4941.658548\n",
       " 1292  4919.874780\n",
       " \n",
       " [1293 rows x 1 columns],\n",
       " 0,\n",
       " 'hiphp.wav')"
      ]
     },
     "execution_count": 32,
     "metadata": {},
     "output_type": "execute_result"
    }
   ],
   "source": [
    "x_transformed = pipe.fit_transform(X)\n",
    "x_transformed[0]"
   ]
  },
  {
   "cell_type": "code",
   "execution_count": null,
   "metadata": {},
   "outputs": [],
   "source": []
  }
 ],
 "metadata": {
  "kernelspec": {
   "display_name": "caits",
   "language": "python",
   "name": "python3"
  },
  "language_info": {
   "codemirror_mode": {
    "name": "ipython",
    "version": 3
   },
   "file_extension": ".py",
   "mimetype": "text/x-python",
   "name": "python",
   "nbconvert_exporter": "python",
   "pygments_lexer": "ipython3",
   "version": "3.11.11"
  }
 },
 "nbformat": 4,
 "nbformat_minor": 2
}
